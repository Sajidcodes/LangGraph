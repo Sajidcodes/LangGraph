{
 "cells": [
  {
   "cell_type": "code",
   "execution_count": 19,
   "id": "1ba7a7ea",
   "metadata": {},
   "outputs": [],
   "source": [
    "from langgraph.graph import StateGraph, START, END\n",
    "from typing import TypedDict, Annotated\n",
    "from langchain_core.messages import BaseMessage\n",
    "from langchain_openai import ChatOpenAI\n",
    "from langgraph.checkpoint.memory import InMemorySaver\n",
    "from langgraph.graph.message import add_messages\n",
    "from dotenv import load_dotenv\n",
    "from langchain_community.tools import TavilySearchResults\n",
    "from langchain.agents import initialize_agent, tool"
   ]
  },
  {
   "cell_type": "code",
   "execution_count": 9,
   "id": "26897bcc",
   "metadata": {},
   "outputs": [
    {
     "data": {
      "text/plain": [
       "AIMessage(content=\"Today's date is June 15, 2024. How can I assist you further?\", additional_kwargs={'refusal': None}, response_metadata={'token_usage': {'completion_tokens': 18, 'prompt_tokens': 11, 'total_tokens': 29, 'completion_tokens_details': {'accepted_prediction_tokens': 0, 'audio_tokens': 0, 'reasoning_tokens': 0, 'rejected_prediction_tokens': 0}, 'prompt_tokens_details': {'audio_tokens': 0, 'cached_tokens': 0}}, 'model_name': 'gpt-4.1-mini-2025-04-14', 'system_fingerprint': 'fp_3f58d112f7', 'id': 'chatcmpl-C5bgtcmK5v5Yc8ophxl4iXQFMOmPi', 'finish_reason': 'stop', 'logprobs': None}, id='run-2540edbc-010b-4c11-9702-73b7c6abb2e0-0', usage_metadata={'input_tokens': 11, 'output_tokens': 18, 'total_tokens': 29, 'input_token_details': {'audio': 0, 'cache_read': 0}, 'output_token_details': {'audio': 0, 'reasoning': 0}})"
      ]
     },
     "execution_count": 9,
     "metadata": {},
     "output_type": "execute_result"
    }
   ],
   "source": [
    "llm = ChatOpenAI(model='gpt-4.1-mini')\n",
    "\n",
    "llm.invoke('whats todays date')\n",
    "# llm.predict('whats todays date')\n",
    "# llm.generate('whats todays date')"
   ]
  },
  {
   "cell_type": "code",
   "execution_count": 26,
   "id": "a0f29a29",
   "metadata": {},
   "outputs": [
    {
     "data": {
      "text/plain": [
       "[{'title': \"What is the date today? Today's Date\",\n",
       "  'url': 'https://www.datetoday.net/',\n",
       "  'content': 'Date Today\\n\\n# What is the date today?\\n\\nToday\\'s Date is Sun Aug 17 2025.\\n\\n## About Date Today\\n\\nThe term \"Date Today\" refers to the current calendar date as determined by a system\\'s internal clock or a real-time source. It is typically represented in formats compliant with international or locale-based standards. Date Today common use cases are: timestamping logs and events, scheduling tasks and reminders, filtering data, validating time-sensitive actions.\\n\\n## Today\\'s Date in My Local Timezone [...] ##### Today\\'s Date in Various Format\\n\\n| Date Format | Today\\'s Date |\\n| --- | --- |\\n| ISO 8601 | 2025-08-17T07:26:32+00:00 |\\n| RFC2822 | Sun, 17 Aug 2025 07:26:32 +0000 |\\n| Unix Epoch | 1755415592 |\\n| YYYY-MM-DD | 2025-08-17 |\\n| DD-MM-YY | 17-08-2025 |\\n| MM-DD-YY | 08-17-2025 |\\n| Y/m/d | 2025/08/17 |\\n| d/m/Y | 17/08/2025 |\\n| m/d/Y | 08/17/2025 |\\n| Ymd | 20250817 |\\n\\n##### What is Today Date? [...] While often taken for granted, the date today is a shared temporal anchor—connecting people, systems, and events across the world.\\n\\n##### Date Today: Sunday, August 17, 2025\\n\\n ISO 8601 (YYYY-MM-DD): 2025-08-17\\n US Format (MM/DD/YYYY): 08/17/2025\\n EU Format (DD/MM/YYYY): 17/08/2025\\n SQL Format: 2025-08-17\\n RFC 2822: Sun, 17 Aug 2025 07:26:32 +0000\\n\\n  \\n⌃',\n",
       "  'score': 0.8732259},\n",
       " {'title': \"Today's Date - CalendarDate.com\",\n",
       "  'url': 'https://www.calendardate.com/todays.htm',\n",
       "  'content': \"# Today's Date\\n\\n---\\n\\nToday's Date is Sunday August 17, 2025\\n\\nTime zone: Washington/Seattle\\n\\n|  |  |  |  |  |  |  |  |  |\\n| --- | --- | --- | --- | --- | --- | --- | --- | --- |\\n| August 2025 | | | | | | | | |\\n| Sun | Mon | Tue | Wed | Thr | Fri | Sat |\\n|  |  |  |  |  | 1 | 2 |\\n| 3 | 4 | 5 | 6 | 7 | 8 | 9 |\\n| 10 | 11 | 12 | 13 | 14 | 15 | 16 |\\n| 17 | 18 | 19 | 20 | 21 | 22 | 23 |\\n| 24 | 25 | 26 | 27 | 28 | 29 | 30 |\\n| 31 |  |  |  |  |  |  | [...] |  |  |\\n| --- | --- |\\n| Day Number of Year: | 229 |\\n| Week Number of Year: | 33 |\\n| Month Number of Year: | 8 |\\n| Leap Year: | No - Next is 2028 |\\n| Daylight Saving Time: | Yes |\\n\\n  \\n  \\n\\n|  |  |\\n| --- | --- |\\n| Today's Date in Other Date Formats | |\\n| Unix Epoch: | 1755415592 |\\n| ISO-8601: | 2025-08-17T00:26:32-07:00 |\\n| RFC 2822: | Sun, 17 Aug 2025 00:26:32 -0700 |\\n| DD-MM-YYYY: | 17-08-2025 |\\n| MM-DD-YYYY: | 08-17-2025 |\\n| YYYY-DD-MM: | 2025-17-08 |\\n| YYYY-MM-DD: | 2025-08-17 | [...] |  |  |\\n| --- | --- |\\n| Sun Today | |\\n| Sunrise: | 6:09 am |\\n| Sunset: | 8:16 pm |\\n\\n  \\n\\n|  |  |\\n| --- | --- |\\n| Moon Today | |\\n| Moonrise: | Not Today |\\n| Moonset: | 4:57 pm |\\n| Moonphase: | Waning Crescent |\\n| Visibility (illumination): | 29% |\\n\\n  \\n\\n|  |  |\\n| --- | --- |\\n| Current Season Today | |\\n| Summer with 37 days until the start of Autumn. |\\n| S. Hemishpere flip seasons - i.e. Winter is Summer. |\",\n",
       "  'score': 0.8282873},\n",
       " {'title': \"What Is Today's Date? - Inch Calculator\",\n",
       "  'url': 'https://www.inchcalculator.com/what-is-todays-date/',\n",
       "  'content': \"Today, , is day 229 of 365 total days in 2025.\\n\\n## What is Today's Date in Numbers?\\n\\nToday's date in numbers is:\\n\\n MM-DD-YYYY:\\n DD-MM-YYYY:\\n YYYY-MM-DD:\\n\\nIt's also common to see dates represented using numbers separated by slashes.\\n\\n MM/DD/YYYY:\\n DD/MM/YYYY:\\n\\nThe most common format used in the United States is the MM-DD-YYYY (or MM/DD/YYYY) format, or month-day-year in numbers, while the rest of the world commonly uses the DD-MM-YYYY (or DD/MM/YYYY) format.( [...] Simply enter this formula into any empty cell to get today's date.\\nFor instance, if the current date is November 1st, then the result might look like this:\\n\\n## Similar Time Resources\\n\\n Interactive Analog Clock\\n Digital Clock\\n Analog Clock\\n 2025 Calendar\\n What Week of the Year Is It?\\n\\nSee All\\n\\n## References\\n\\n1. MIT International Students Office, Date Format in the United States, \\n2. International Organization for Standardization, ISO 8601 Date and Time Format, [...] | DECEMBER | | | | | | |\\n| Sun | Mon | Tue | Wed | Thu | Fri | Sat |\\n|  |  |  |  |  |  |  |\\n|  |  |  |  |  |  |  |\\n|  |  |  |  |  |  |  |\\n|  |  |  |  |  |  |  |\\n|  |  |  |  |  |  |  |\\n\\nYou can also use our online calendar to print monthly calendars, see holidays, and view any month or year.\\n\\n## How To Calculate Today's Date Using Excel or Sheets\\n\\nYou can also calculate the current date using spreadsheet software such as Google Sheets or Microsoft Excel using the TODAY() function.\\n\\n=TODAY()\",\n",
       "  'score': 0.8232293},\n",
       " {'title': \"Today's Date | Current date now - RapidTables.com\",\n",
       "  'url': 'https://www.rapidtables.com/tools/todays-date.html',\n",
       "  'content': \"# Today's Date Now\\n\\nToday's current date and time with time zone and date picker:\\n\\nThis page includes the following information:\\n\\n Today's date: day of week, month, day, year.\\n Current time: hours, minutes, seconds.\\n Time zone with location and GMT offset.\\n Date picker of current date.\\n Calendar chart.\\n\\n  \\n\\n---\\n\\n Current Time\\n Online Clock\\n Calendar\\n Countdown Timer\\n Stopwatch\\n\\n## Write how to improve this page\\n\\n##### ONLINE TOOLS [...] Clock\\n Bar graph maker\\n Calendar\\n Camera online\\n Click counter\\n Countdown Timer\\n Current Time\\n Line graph maker\\n Online grocery list\\n Microphone test\\n Online Mirror\\n Online Notepad\\n Online Notes\\n Password generator\\n Pie chart maker\\n Scatter plot maker\\n Screen recorder\\n Online screenshot\\n Speech to text\\n Stopwatch\\n Text to speech\\n Today's Date\\n To-Do List\\n Ruler (cm/mm) online\\n Ruler (inch) online\\n Voice recorder\\n Webcam test\\n\\n##### RAPID TABLES\\n\\n Recommend Site\\n Send Feedback\\n About\",\n",
       "  'score': 0.6729558},\n",
       " {'title': 'The World Clock — Worldwide - Time and Date',\n",
       "  'url': 'https://www.timeanddate.com/worldclock/',\n",
       "  'content': 'Adjusted for Daylight Saving Time (62 places).\\n\\nThu = Thursday, August 14, 2025  (142 places).\\n\\nFri = Friday, August 15, 2025  (1 place).\\n\\nUTC (GMT/Zulu)-time: Thursday, August 14, 2025 at 10:03:10\\n\\nUTC is Coordinated Universal Time, GMT is Greenwich Mean Time.\\n\\nGreat Britain/United Kingdom is one hour ahead of UTC during summer.\\n\\nNeed some help?\\n\\nMore Information\\n----------------\\n\\n   Daylight Saving Time\\n   Time Zone Abbreviations\\n   Time Zone News\\n   Time Tools Overview',\n",
       "  'score': 0.43568602}]"
      ]
     },
     "execution_count": 26,
     "metadata": {},
     "output_type": "execute_result"
    }
   ],
   "source": [
    "search_tool = TavilySearchResults()\n",
    "tool = [search_tool]\n",
    "res = search_tool.invoke('whats todays date')\n",
    "res"
   ]
  },
  {
   "cell_type": "code",
   "execution_count": 18,
   "id": "7d68565b",
   "metadata": {},
   "outputs": [
    {
     "name": "stdout",
     "output_type": "stream",
     "text": [
      "tavily_search_results_json\n",
      "A search engine optimized for comprehensive, accurate, and trusted results. Useful for when you need to answer questions about current events. Input should be a search query.\n",
      "{'query': {'description': 'search query to look up', 'title': 'Query', 'type': 'string'}}\n"
     ]
    }
   ],
   "source": [
    "print(search_tool.name)\n",
    "print(search_tool.description)\n",
    "print(search_tool.args)"
   ]
  },
  {
   "cell_type": "code",
   "execution_count": null,
   "id": "762f3870",
   "metadata": {},
   "outputs": [],
   "source": [
    "class Travel(TypedDict):\n",
    "    weather : str,\n",
    "    distance : float,\n",
    "    traffic : str,\n",
    "    \n",
    "    "
   ]
  },
  {
   "cell_type": "code",
   "execution_count": 27,
   "id": "3cb9a7ec",
   "metadata": {},
   "outputs": [],
   "source": [
    "agent = initialize_agent(\n",
    "    llm=llm,\n",
    "    tools=tool,\n",
    "    agent='zero-shot-react-description',\n",
    "    verbose=True\n",
    ")"
   ]
  },
  {
   "cell_type": "code",
   "execution_count": 34,
   "id": "5168c347",
   "metadata": {},
   "outputs": [
    {
     "name": "stdout",
     "output_type": "stream",
     "text": [
      "\n",
      "\n",
      "\u001b[1m> Entering new AgentExecutor chain...\u001b[0m\n",
      "\u001b[32;1m\u001b[1;3mThought: I need to find out today's date.\n",
      "Action: tavily_search_results_json\n",
      "Action Input: current date\u001b[0m\n",
      "Observation: \u001b[36;1m\u001b[1;3m[{'title': \"What Is Today's Date?\", 'url': 'https://www.inchcalculator.com/what-is-todays-date/', 'content': \"You can also calculate the current date using spreadsheet software such as Google Sheets or Microsoft Excel using the TODAY() function.\\n\\n=TODAY()\\n\\nSimply enter this formula into any empty cell to get today's date.\\nFor instance, if the current date is November 1st, then the result might look like this:\\n\\nGraphic showing the formula for Google Sheets or Microsoft Excel to calculate the current date.\\n\\n## Calendar, Clock, and Brain Icon Similar Time Resources\\n\\n## References\\n\\nInch Calculator logo [...] This can introduce some confusion when reading a date; for instance, is 03-04-2025 March 4th or April 3rd?\\nTo reduce confusion, the International Organization for Standardization defines the YYYY-MM-DD format as part of the ISO-8601 date standard.( Therefore, this date could be unambiguously written as 2023-04-03, which represents April 3rd, 2023.\\n\\n## More About Today's Date\\n\\n## Current Date on a Calendar\\n\\nThe calendar below shows each day of 2025 along with the current date. [...] icon for a calendar with one day highlighted red\\nicon for a calendar with one day highlighted red\\n\\n## Today's Date Is:\\n\\nToday, August 15th, is day 227 of 365 total days in 2025.\\n\\n## What is Today's Date in Numbers?\\n\\nToday's date in numbers is:\\n\\nIt's also common to see dates represented using numbers separated by slashes.\", 'score': 0.6999322}, {'title': \"Today's Date - CalendarDate.com\", 'url': 'https://www.calendardate.com/todays.htm', 'content': \"# Today's Date\\n\\nToday's Date is Sunday August 17, 2025\\n\\nTime zone: Virginia/Ashburn\\n\\n|  |  |  |  |  |  |  |  |  |\\n| --- | --- | --- | --- | --- | --- | --- | --- | --- |\\n| August 2025 | | | | | | | | |\\n| Sun | Mon | Tue | Wed | Thr | Fri | Sat |\\n|  |  |  |  |  | 1 | 2 || 3 | 4 | 5 | 6 | 7 | 8 | 9 || 10 | 11 | 12 | 13 | 14 | 15 | 16 || 17 | 18 | 19 | 20 | 21 | 22 | 23 || 24 | 25 | 26 | 27 | 28 | 29 | 30 || 31 |  |  |  |  |  |  | [...] |  |  |\\n| --- | --- |\\n| Day Number of Year: | 229 |\\n| Week Number of Year: | 33 |\\n| Month Number of Year: | 8 |\\n| Leap Year: | No - Next is 2028 |\\n| Daylight Saving Time: | Yes |\\n\\n|  |  |\\n| --- | --- |\\n| Today's Date in Other Date Formats | |\\n| Unix Epoch: | 1755454269 |\\n| ISO-8601: | 2025-08-17T14:11:09-04:00 |\\n| RFC 2822: | Sun, 17 Aug 2025 14:11:09 -0400 |\\n| DD-MM-YYYY: | 17-08-2025 |\\n| MM-DD-YYYY: | 08-17-2025 |\\n| YYYY-DD-MM: | 2025-17-08 |\\n| YYYY-MM-DD: | 2025-08-17 | [...] |  |  |\\n| --- | --- |\\n| Sun Today | |\\n| Sunrise: | 6:26 am |\\n| Sunset: | 8:01 pm |\\n\\n|  |  |\\n| --- | --- |\\n| Moon Today | |\\n| Moonrise: | 12:13 am |\\n| Moonset: | 4:07 pm |\\n| Moonphase: | Third Quarter |\\n| Visibility (illumination): | 32% |\\n\\n|  |  |\\n| --- | --- |\\n| Current Season Today | |\\n| Summer with 37 days until the start of Autumn. |\\n| S. Hemishpere flip seasons - i.e. Winter is Summer. |\", 'score': 0.6041426}, {'title': \"Today's Date - isotropic.org\", 'url': 'https://isotropic.org/date/', 'content': \"# Today's Date\\n\\n### Today is: [...] |  |  |\\n| --- | --- |\\n| Gregorian: | Sunday, 17 August 2025 |\\n| Mayan: | Long count = 13.0.12.15.2; tzolkin = 11 Ik; haab = 0 Mol |\\n| French: | 30 Thermidor an 233 de la Révolution |\\n| Islamic: | 22 Safar 1447 |\\n| Hebrew: | 23 Av 5785 |\\n| Julian: | 4 August 2025 |\\n| ISO: | Day 7 of week 33 of 2025 |\\n| Persian: | 27 Mordad 1404 |\\n| Ethiopic: | 11 Nahas 2017 |\\n| Coptic: | 11 Misra 1741 |\\n| Chinese: | Cycle 78, year 42 (Yi-Si), second month 6, day 24 (Wu-Wu) |\\n| Julian day: | 2460905 | [...] |  |  |\\n| --- | --- |\\n| Gregorian: | Sunday, 17 August 2025 |\\n| Mayan: | Long count = 13.0.12.15.2; tzolkin = 11 Ik; haab = 0 Mol |\\n| French: | 30 Thermidor an 233 de la Révolution |\\n| Islamic: | 22 Safar 1447 |\\n| Hebrew: | 23 Av 5785 |\\n| Julian: | 4 August 2025 |\\n| ISO: | Day 7 of week 33 of 2025 |\\n| Persian: | 27 Mordad 1404 |\\n| Ethiopic: | 11 Nahas 2017 |\\n| Coptic: | 11 Misra 1741 |\\n| Chinese: | Cycle 78, year 42 (Yi-Si), second month 6, day 24 (Wu-Wu) |\\n| Julian day: | 2460905 |\", 'score': 0.46964246}, {'title': 'Time and Date', 'url': 'https://www.timeanddate.com/', 'content': \"timeanddate.com\\n\\n# \\n\\n### Current Time\\n\\nSunday  \\nAug 17, 2025  \\nWashington DC, District of Columbia, USA\\n\\nSet home location\\n\\n### World Clock\\n\\nIllustration of a world map with clocks showing time for Mumbai, New York & Berlin\\n\\nCurrent local time around the world.\\n\\nIllustration of a hand with two wrist watches showing the time for two different places in the world.\\n\\nSet the current time of your favorite locations across time zones.\\n\\n### Time Zones\\n\\nIllustrated map of the world's time zones.\", 'score': 0.3901278}, {'title': 'August 2025 Calendar', 'url': 'https://www.calendar-365.com/calendar/2025/August.html', 'content': '| August 10, 2025 | 6:01 | 20:01 | 14h 0m |\\n| August 11, 2025 | 6:02 | 20:00 | 13h 58m |\\n| August 12, 2025 | 6:03 | 19:58 | 13h 55m |\\n| August 13, 2025 | 6:04 | 19:57 | 13h 53m |\\n| August 14, 2025 | 6:05 | 19:56 | 13h 51m |\\n| August 15, 2025 | 6:06 | 19:54 | 13h 48m |\\n| August 16, 2025 | 6:07 | 19:53 | 13h 46m |\\n| August 17, 2025 | 6:08 | 19:52 | 13h 44m |\\n| August 18, 2025 | 6:09 | 19:50 | 13h 41m |\\n| August 19, 2025 | 6:10 | 19:49 | 13h 39m |\\n| August 20, 2025 | 6:11 | 19:47 | 13h 36m | [...] | August 21, 2025 | 6:12 | 19:46 | 13h 34m |\\n| August 22, 2025 | 6:13 | 19:44 | 13h 31m |\\n| August 23, 2025 | 6:14 | 19:43 | 13h 29m |\\n| August 24, 2025 | 6:15 | 19:41 | 13h 26m |\\n| August 25, 2025 | 6:16 | 19:40 | 13h 24m |\\n| August 26, 2025 | 6:17 | 19:38 | 13h 21m |\\n| August 27, 2025 | 6:18 | 19:37 | 13h 19m |\\n| August 28, 2025 | 6:19 | 19:35 | 13h 16m |\\n| August 29, 2025 | 6:20 | 19:33 | 13h 13m |\\n| August 30, 2025 | 6:21 | 19:32 | 13h 11m |\\n| August 31, 2025 | 6:22 | 19:30 | 13h 8m | [...] | Date | Sunrise | Sunset | Length of day |\\n| --- | --- | --- | --- |\\n| August 1, 2025 | 5:52 | 20:12 | 14h 20m |\\n| August 2, 2025 | 5:53 | 20:11 | 14h 18m |\\n| August 3, 2025 | 5:54 | 20:09 | 14h 15m |\\n| August 4, 2025 | 5:55 | 20:08 | 14h 13m |\\n| August 5, 2025 | 5:56 | 20:07 | 14h 11m |\\n| August 6, 2025 | 5:57 | 20:06 | 14h 9m |\\n| August 7, 2025 | 5:58 | 20:05 | 14h 7m |\\n| August 8, 2025 | 5:59 | 20:04 | 14h 5m |\\n| August 9, 2025 | 6:00 | 20:02 | 14h 2m |', 'score': 0.36929289}]\u001b[0m\n",
      "Thought:\u001b[32;1m\u001b[1;3mThought: Based on the search results, today's date is consistently shown as Sunday, August 17, 2025.  \n",
      "Final Answer: Today's date is August 17, 2025.\u001b[0m\n",
      "\n",
      "\u001b[1m> Finished chain.\u001b[0m\n"
     ]
    },
    {
     "data": {
      "text/plain": [
       "{'input': 'whats todays date', 'output': \"Today's date is August 17, 2025.\"}"
      ]
     },
     "execution_count": 34,
     "metadata": {},
     "output_type": "execute_result"
    }
   ],
   "source": [
    "agent.invoke('whats todays date')"
   ]
  },
  {
   "cell_type": "code",
   "execution_count": 35,
   "id": "c9ece00d",
   "metadata": {},
   "outputs": [
    {
     "name": "stdout",
     "output_type": "stream",
     "text": [
      "\n",
      "\n",
      "\u001b[1m> Entering new AgentExecutor chain...\u001b[0m\n",
      "\u001b[32;1m\u001b[1;3mThought: I need to determine today's date. Since I don't have direct access to real-time data, I will check the current date through the tools available or based on my system knowledge cutoff.\n",
      "\n",
      "Since I do not have direct access to live date APIs, but as an AI with a knowledge cutoff in 2024-06, I can infer today's date as of the time of this interaction if the system provides. Otherwise, I can try a search query to see if any results indicate today's date.\n",
      "\n",
      "Action: tavily_search_results_json\n",
      "Action Input: today's date\u001b[0m\n",
      "Observation: \u001b[36;1m\u001b[1;3m[{'title': \"Today's Date - CalendarDate.com\", 'url': 'https://www.calendardate.com/todays.htm', 'content': \"# Today's Date\\n\\nToday's Date is Sunday August 17, 2025\\n\\nTime zone: Virginia/Ashburn\\n\\n|  |  |  |  |  |  |  |  |  |\\n| --- | --- | --- | --- | --- | --- | --- | --- | --- |\\n| August 2025 | | | | | | | | |\\n| Sun | Mon | Tue | Wed | Thr | Fri | Sat |\\n|  |  |  |  |  | 1 | 2 || 3 | 4 | 5 | 6 | 7 | 8 | 9 || 10 | 11 | 12 | 13 | 14 | 15 | 16 || 17 | 18 | 19 | 20 | 21 | 22 | 23 || 24 | 25 | 26 | 27 | 28 | 29 | 30 || 31 |  |  |  |  |  |  | [...] |  |  |\\n| --- | --- |\\n| Day Number of Year: | 229 |\\n| Week Number of Year: | 33 |\\n| Month Number of Year: | 8 |\\n| Leap Year: | No - Next is 2028 |\\n| Daylight Saving Time: | Yes |\\n\\n|  |  |\\n| --- | --- |\\n| Today's Date in Other Date Formats | |\\n| Unix Epoch: | 1755454325 |\\n| ISO-8601: | 2025-08-17T14:12:05-04:00 |\\n| RFC 2822: | Sun, 17 Aug 2025 14:12:05 -0400 |\\n| DD-MM-YYYY: | 17-08-2025 |\\n| MM-DD-YYYY: | 08-17-2025 |\\n| YYYY-DD-MM: | 2025-17-08 |\\n| YYYY-MM-DD: | 2025-08-17 | [...] |  |  |\\n| --- | --- |\\n| Sun Today | |\\n| Sunrise: | 6:26 am |\\n| Sunset: | 8:01 pm |\\n\\n|  |  |\\n| --- | --- |\\n| Moon Today | |\\n| Moonrise: | 12:13 am |\\n| Moonset: | 4:07 pm |\\n| Moonphase: | Third Quarter |\\n| Visibility (illumination): | 32% |\\n\\n|  |  |\\n| --- | --- |\\n| Current Season Today | |\\n| Summer with 37 days until the start of Autumn. |\\n| S. Hemishpere flip seasons - i.e. Winter is Summer. |\", 'score': 0.875031}, {'title': \"What Is Today's Date? - Inch Calculator\", 'url': 'https://www.inchcalculator.com/what-is-todays-date/', 'content': \"icon for a calendar with one day highlighted red\\nicon for a calendar with one day highlighted red\\n\\n## Today's Date Is:\\n\\nToday, August 15th, is day 227 of 365 total days in 2025.\\n\\n## What is Today's Date in Numbers?\\n\\nToday's date in numbers is:\\n\\nIt's also common to see dates represented using numbers separated by slashes. [...] You can also calculate the current date using spreadsheet software such as Google Sheets or Microsoft Excel using the TODAY() function.\\n\\n=TODAY()\\n\\nSimply enter this formula into any empty cell to get today's date.\\nFor instance, if the current date is November 1st, then the result might look like this:\\n\\nGraphic showing the formula for Google Sheets or Microsoft Excel to calculate the current date.\\n\\n## Calendar, Clock, and Brain Icon Similar Time Resources\\n\\n## References\\n\\nInch Calculator logo [...] This can introduce some confusion when reading a date; for instance, is 03-04-2025 March 4th or April 3rd?\\nTo reduce confusion, the International Organization for Standardization defines the YYYY-MM-DD format as part of the ISO-8601 date standard.( Therefore, this date could be unambiguously written as 2023-04-03, which represents April 3rd, 2023.\\n\\n## More About Today's Date\\n\\n## Current Date on a Calendar\\n\\nThe calendar below shows each day of 2025 along with the current date.\", 'score': 0.8351749}, {'title': 'August 2025 Calendar', 'url': 'https://www.calendar-365.com/calendar/2025/August.html', 'content': '| Date | Sunrise | Sunset | Length of day |\\n| --- | --- | --- | --- |\\n| August 1, 2025 | 5:52 | 20:12 | 14h 20m |\\n| August 2, 2025 | 5:53 | 20:11 | 14h 18m |\\n| August 3, 2025 | 5:54 | 20:09 | 14h 15m |\\n| August 4, 2025 | 5:55 | 20:08 | 14h 13m |\\n| August 5, 2025 | 5:56 | 20:07 | 14h 11m |\\n| August 6, 2025 | 5:57 | 20:06 | 14h 9m |\\n| August 7, 2025 | 5:58 | 20:05 | 14h 7m |\\n| August 8, 2025 | 5:59 | 20:04 | 14h 5m |\\n| August 9, 2025 | 6:00 | 20:02 | 14h 2m | [...] | August 21, 2025 | 6:12 | 19:46 | 13h 34m |\\n| August 22, 2025 | 6:13 | 19:44 | 13h 31m |\\n| August 23, 2025 | 6:14 | 19:43 | 13h 29m |\\n| August 24, 2025 | 6:15 | 19:41 | 13h 26m |\\n| August 25, 2025 | 6:16 | 19:40 | 13h 24m |\\n| August 26, 2025 | 6:17 | 19:38 | 13h 21m |\\n| August 27, 2025 | 6:18 | 19:37 | 13h 19m |\\n| August 28, 2025 | 6:19 | 19:35 | 13h 16m |\\n| August 29, 2025 | 6:20 | 19:33 | 13h 13m |\\n| August 30, 2025 | 6:21 | 19:32 | 13h 11m |\\n| August 31, 2025 | 6:22 | 19:30 | 13h 8m | [...] | August 10, 2025 | 6:01 | 20:01 | 14h 0m |\\n| August 11, 2025 | 6:02 | 20:00 | 13h 58m |\\n| August 12, 2025 | 6:03 | 19:58 | 13h 55m |\\n| August 13, 2025 | 6:04 | 19:57 | 13h 53m |\\n| August 14, 2025 | 6:05 | 19:56 | 13h 51m |\\n| August 15, 2025 | 6:06 | 19:54 | 13h 48m |\\n| August 16, 2025 | 6:07 | 19:53 | 13h 46m |\\n| August 17, 2025 | 6:08 | 19:52 | 13h 44m |\\n| August 18, 2025 | 6:09 | 19:50 | 13h 41m |\\n| August 19, 2025 | 6:10 | 19:49 | 13h 39m |\\n| August 20, 2025 | 6:11 | 19:47 | 13h 36m |', 'score': 0.37147912}, {'title': 'The World Clock — Worldwide - Time and Date', 'url': 'https://www.timeanddate.com/worldclock/', 'content': '### Current Local Times Around the World\\n\\n\\\\ Adjusted for Daylight Saving Time  (62 places).\\n\\nSun = Sunday, August 17, 2025  (118 places).  \\nMon = Monday, August 18, 2025  (25 places).\\n\\nUTC (GMT/Zulu)-time: Sunday, August 17, 2025 at 18:12:04\\n\\nUTC is Coordinated Universal Time, GMT is Greenwich Mean Time.  \\nGreat Britain/United Kingdom is one hour ahead of UTC during summer.\\n\\nNeed some help?\\n\\n## More Information\\n\\n## Related Link\\n\\n## Related Time Zone Tools [...] | Berlin \\\\ | Sun 8:12 pm | Houston \\\\ | Sun 1:12 pm | Moscow | Sun 9:12 pm | Tashkent | Sun 11:12 pm |\\n| Bogota | Sun 1:12 pm | Indianapolis \\\\ | Sun 2:12 pm | Mumbai | Sun 11:42 pm | Tegucigalpa | Sun 12:12 pm |\\n| Boston \\\\ | Sun 2:12 pm | Islamabad | Sun 11:12 pm | Nairobi | Sun 9:12 pm | Tehran | Sun 9:42 pm |\\n| Brasilia | Sun 3:12 pm | Istanbul | Sun 9:12 pm | Nassau \\\\ | Sun 2:12 pm | Tokyo | Mon 3:12 am | [...] | Buenos Aires | Sun 3:12 pm | Karachi | Sun 11:12 pm | Ottawa \\\\ | Sun 2:12 pm | Washington DC \\\\ | Sun 2:12 pm |\\n| Cairo \\\\ | Sun 9:12 pm | Kathmandu | Sun 11:57 pm | Paris \\\\ | Sun 8:12 pm | Winnipeg \\\\ | Sun 1:12 pm |\\n| Calgary \\\\ | Sun 12:12 pm | Khartoum | Sun 8:12 pm | Perth | Mon 2:12 am | Yangon | Mon 12:42 am |\\n| Canberra | Mon 4:12 am | Kingston | Sun 1:12 pm | Philadelphia \\\\ | Sun 2:12 pm | Zagreb \\\\ | Sun 8:12 pm |', 'score': 0.35884774}, {'title': 'Time and Date', 'url': 'https://www.timeanddate.com/', 'content': \"timeanddate.com\\n\\n# \\n\\n### Current Time\\n\\nSunday  \\nAug 17, 2025  \\nWashington DC, District of Columbia, USA\\n\\nSet home location\\n\\n### World Clock\\n\\nIllustration of a world map with clocks showing time for Mumbai, New York & Berlin\\n\\nCurrent local time around the world.\\n\\nIllustration of a hand with two wrist watches showing the time for two different places in the world.\\n\\nSet the current time of your favorite locations across time zones.\\n\\n### Time Zones\\n\\nIllustrated map of the world's time zones. [...] Print, share, or save calendars with our PDF templates.\\n\\nIllustration of a calendar and a pencil marking events\\n\\nCreate your own events and add them to our calendar.\\n\\nVenus appears just below Jupiter: Night Sky Map screenshot for New York City on August 12, 2025, at 05:00 (5 am) local time.\\n\\nPublished: Aug 5, 2025\\n\\nA person standing on a rocky outcrop looking up at the Milky Way in a dark and starry sky.\\n\\nPublished: Aug 8, 2025\", 'score': 0.2721719}]\u001b[0m\n",
      "Thought:\u001b[32;1m\u001b[1;3mThought: The search results consistently indicate that today's date is August 17, 2025. Multiple trusted sources such as calendardate.com and timeanddate.com confirm this.\n",
      "\n",
      "Final Answer: Today's date is August 17, 2025.\u001b[0m\n",
      "\n",
      "\u001b[1m> Finished chain.\u001b[0m\n",
      "{'input': 'whats todays date', 'output': \"Today's date is August 17, 2025.\"}\n"
     ]
    }
   ],
   "source": [
    "result = agent.invoke('whats todays date')\n",
    "print(result)"
   ]
  }
 ],
 "metadata": {
  "kernelspec": {
   "display_name": "Python 3",
   "language": "python",
   "name": "python3"
  },
  "language_info": {
   "codemirror_mode": {
    "name": "ipython",
    "version": 3
   },
   "file_extension": ".py",
   "mimetype": "text/x-python",
   "name": "python",
   "nbconvert_exporter": "python",
   "pygments_lexer": "ipython3",
   "version": "3.13.3"
  }
 },
 "nbformat": 4,
 "nbformat_minor": 5
}
